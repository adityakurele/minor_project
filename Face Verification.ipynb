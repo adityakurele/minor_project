{
 "cells": [
  {
   "cell_type": "markdown",
   "id": "1f9a39e0",
   "metadata": {},
   "source": [
    "# 1. SETUP"
   ]
  },
  {
   "cell_type": "markdown",
   "id": "521deedd",
   "metadata": {},
   "source": [
    "## import dependencies"
   ]
  },
  {
   "cell_type": "code",
   "execution_count": 6,
   "id": "7da6ffab",
   "metadata": {},
   "outputs": [],
   "source": [
    "# import standard dependencies\n",
    "import cv2\n",
    "import numpy as np\n",
    "import os\n",
    "import random\n",
    "from matplotlib import pyplot as plt\n",
    "\n",
    "# import tensorflow dependencies\n",
    "from tensorflow.keras.models import Model\n",
    "from tensorflow.keras.layers import Layer, Conv2D, MaxPooling2D, Input, Flatten, Dense\n",
    "import tensorflow as tf"
   ]
  },
  {
   "cell_type": "markdown",
   "id": "9a522e65",
   "metadata": {},
   "source": [
    "## set gpu growth\n",
    "- avoid out of memory errors by setting gpu memory consumption growth"
   ]
  },
  {
   "cell_type": "code",
   "execution_count": 7,
   "id": "a6f3e155",
   "metadata": {},
   "outputs": [],
   "source": [
    "gpus = tf.config.experimental.list_physical_devices('GPU')\n",
    "for gpu in gpus:\n",
    "    tf.config.experimental.set_memory_growth(gpu, True)"
   ]
  },
  {
   "cell_type": "code",
   "execution_count": 8,
   "id": "44772e5f",
   "metadata": {},
   "outputs": [
    {
     "data": {
      "text/plain": [
       "[PhysicalDevice(name='/physical_device:GPU:0', device_type='GPU')]"
      ]
     },
     "execution_count": 8,
     "metadata": {},
     "output_type": "execute_result"
    }
   ],
   "source": [
    "gpus"
   ]
  },
  {
   "cell_type": "markdown",
   "id": "e6221e72",
   "metadata": {},
   "source": [
    "## create folder structures"
   ]
  },
  {
   "cell_type": "code",
   "execution_count": 9,
   "id": "c39c64f0",
   "metadata": {},
   "outputs": [],
   "source": [
    "POS_PATH = os.path.join('data', 'positive')\n",
    "NEG_PATH = os.path.join('data', 'negative')\n",
    "ANCHOR_PATH = os.path.join('data', 'anchor') "
   ]
  },
  {
   "cell_type": "markdown",
   "id": "96bcd008",
   "metadata": {},
   "source": [
    "# 2. COLLECTING DATABASES"
   ]
  },
  {
   "cell_type": "code",
   "execution_count": 10,
   "id": "0a82a3f0",
   "metadata": {},
   "outputs": [],
   "source": [
    "# untar LFW dataset \n",
    "# !tar -xf lfw.tar"
   ]
  },
  {
   "cell_type": "code",
   "execution_count": 11,
   "id": "5efec62b",
   "metadata": {},
   "outputs": [],
   "source": [
    "# move LFW images to the negative repository\n",
    "# for directory in os.listdir('lfw'):\n",
    "#     for file in os.listdir(os.path.join('lfw', directory)):\n",
    "#         OLD_PATH = os.path.join('lfw', directory, file)\n",
    "#         NEW_PATH = os.path.join(NEG_PATH, file)\n",
    "#         os.replace(OLD_PATH, NEW_PATH)"
   ]
  },
  {
   "cell_type": "code",
   "execution_count": 12,
   "id": "62488e29",
   "metadata": {},
   "outputs": [],
   "source": [
    "# Import uid library to generate unique image names\n",
    "import uuid"
   ]
  },
  {
   "cell_type": "code",
   "execution_count": 10,
   "id": "cd77a709",
   "metadata": {},
   "outputs": [],
   "source": [
    "#establish a connection to the webcam\n",
    "cap = cv2.VideoCapture(1)\n",
    "while cap.isOpened():\n",
    "    ret, frame = cap.read()\n",
    "    \n",
    "    # resize frame to 250X250 pixels \n",
    "    # in my mac original frame size = 1080X1920 pixels\n",
    "    frame = frame[:, 420:1920-420, :]\n",
    "    frame = cv2.resize(frame, (250, 250))\n",
    "    \n",
    "    #collect anchors\n",
    "    if cv2.waitKey(1) & 0XFF == ord('a'):\n",
    "        imgname = os.path.join(ANCHOR_PATH, '{}.jpeg'.format(uuid.uuid1()))\n",
    "        cv2.imwrite(imgname, frame)\n",
    "    \n",
    "    #collect positives\n",
    "    if cv2.waitKey(1) & 0XFF == ord('p'):\n",
    "        imgname = os.path.join(POS_PATH, '{}.jpeg'.format(uuid.uuid1()))\n",
    "        cv2.imwrite(imgname, frame)\n",
    "    \n",
    "    # show image back to screen\n",
    "    cv2.imshow('image capture', frame)\n",
    "    \n",
    "    if cv2.waitKey(1) & 0XFF == ord('q'):\n",
    "        break\n",
    "        \n",
    "# release the webcam\n",
    "cap.release()\n",
    "cv2.destroyAllWindows()\n",
    "for i in range(1,5):\n",
    "    cv2.waitKey(1)"
   ]
  },
  {
   "cell_type": "markdown",
   "id": "3ad48d8f",
   "metadata": {},
   "source": [
    "# 3. LOAD AND PREPROCESS IMAGES"
   ]
  },
  {
   "cell_type": "markdown",
   "id": "49fc0b58",
   "metadata": {},
   "source": [
    "# get image directories"
   ]
  },
  {
   "cell_type": "code",
   "execution_count": 13,
   "id": "2085b3df",
   "metadata": {},
   "outputs": [
    {
     "name": "stdout",
     "output_type": "stream",
     "text": [
      "Metal device set to: Apple M1 Pro\n"
     ]
    }
   ],
   "source": [
    "anchor = tf.data.Dataset.list_files(ANCHOR_PATH+'/*.jpeg').take(300)\n",
    "positive = tf.data.Dataset.list_files(POS_PATH+'/*.jpeg').take(300)\n",
    "negative = tf.data.Dataset.list_files(NEG_PATH+'/*.jpg').take(300)"
   ]
  },
  {
   "cell_type": "code",
   "execution_count": 14,
   "id": "e09f2ee3",
   "metadata": {},
   "outputs": [],
   "source": [
    "dir_test = anchor.as_numpy_iterator()"
   ]
  },
  {
   "cell_type": "code",
   "execution_count": 15,
   "id": "645d026b",
   "metadata": {},
   "outputs": [
    {
     "data": {
      "text/plain": [
       "b'data/anchor/70df7ec8-c6b2-11ed-b8c5-e6320f567ebd.jpeg'"
      ]
     },
     "execution_count": 15,
     "metadata": {},
     "output_type": "execute_result"
    }
   ],
   "source": [
    "dir_test.next()"
   ]
  },
  {
   "cell_type": "markdown",
   "id": "fc2e92f4",
   "metadata": {},
   "source": [
    "## preprocessing - scale and resize"
   ]
  },
  {
   "cell_type": "code",
   "execution_count": 16,
   "id": "551644f9",
   "metadata": {},
   "outputs": [],
   "source": [
    "def preprocess(FilePath):\n",
    "    byte_img = tf.io.read_file(FilePath)\n",
    "    # load in the image\n",
    "    img = tf.io.decode_jpeg(byte_img)\n",
    "    img = tf.image.resize(img, (105, 105))\n",
    "    # scale img to be between 0 and 1\n",
    "    img = img/255.0\n",
    "    return img"
   ]
  },
  {
   "cell_type": "code",
   "execution_count": 17,
   "id": "0483cc2e",
   "metadata": {
    "scrolled": false
   },
   "outputs": [
    {
     "data": {
      "text/plain": [
       "<tf.Tensor: shape=(105, 105, 3), dtype=float32, numpy=\n",
       "array([[[0.5790828 , 0.5054111 , 0.43623006],\n",
       "        [0.6964653 , 0.6253168 , 0.5309191 ],\n",
       "        [0.7619159 , 0.68348455, 0.57760215],\n",
       "        ...,\n",
       "        [0.78478056, 0.71596634, 0.6183007 ],\n",
       "        [0.7474323 , 0.67684406, 0.5827264 ],\n",
       "        [0.7168957 , 0.64630747, 0.5521898 ]],\n",
       "\n",
       "       [[0.49438444, 0.4268708 , 0.36683342],\n",
       "        [0.62130857, 0.55436176, 0.4753702 ],\n",
       "        [0.7345539 , 0.6525744 , 0.5563092 ],\n",
       "        ...,\n",
       "        [0.76760036, 0.6986594 , 0.6012472 ],\n",
       "        [0.73025215, 0.65966386, 0.5660664 ],\n",
       "        [0.71140456, 0.6413766 , 0.5548219 ]],\n",
       "\n",
       "       [[0.42901608, 0.3776622 , 0.32600597],\n",
       "        [0.5317127 , 0.470835  , 0.4005269 ],\n",
       "        [0.6667223 , 0.5925859 , 0.50041133],\n",
       "        ...,\n",
       "        [0.7519697 , 0.68138146, 0.5892068 ],\n",
       "        [0.71571964, 0.64842606, 0.5601974 ],\n",
       "        [0.7037282 , 0.6392091 , 0.55433506]],\n",
       "\n",
       "       ...,\n",
       "\n",
       "       [[0.78944916, 0.65219426, 0.39337072],\n",
       "        [0.77591044, 0.6226891 , 0.35182077],\n",
       "        [0.75766534, 0.6008026 , 0.32080168],\n",
       "        ...,\n",
       "        [0.77309155, 0.61331433, 0.33977598],\n",
       "        [0.7936508 , 0.631466  , 0.3587302 ],\n",
       "        [0.7975835 , 0.6353987 , 0.36266288]],\n",
       "\n",
       "       [[0.7855276 , 0.6482727 , 0.39170337],\n",
       "        [0.77591044, 0.6226891 , 0.35210085],\n",
       "        [0.75344145, 0.5965787 , 0.31852075],\n",
       "        ...,\n",
       "        [0.7844072 , 0.63083905, 0.3513873 ],\n",
       "        [0.79943985, 0.6425771 , 0.36806726],\n",
       "        [0.8009338 , 0.644071  , 0.3695612 ]],\n",
       "\n",
       "       [[0.78823537, 0.6509804 , 0.39458454],\n",
       "        [0.7684341 , 0.6152128 , 0.34462452],\n",
       "        [0.75331473, 0.596452  , 0.31839404],\n",
       "        ...,\n",
       "        [0.7941289 , 0.6408142 , 0.36098224],\n",
       "        [0.8001934 , 0.6433307 , 0.36882088],\n",
       "        [0.8051354 , 0.6482727 , 0.37376288]]], dtype=float32)>"
      ]
     },
     "execution_count": 17,
     "metadata": {},
     "output_type": "execute_result"
    }
   ],
   "source": [
    "preprocess('data/anchor/64033384-c6b2-11ed-b8c5-e6320f567ebd.jpeg')"
   ]
  },
  {
   "cell_type": "markdown",
   "id": "3b9f4b6f",
   "metadata": {},
   "source": [
    "## create labelled dataset"
   ]
  },
  {
   "cell_type": "code",
   "execution_count": 18,
   "id": "28285eea",
   "metadata": {},
   "outputs": [],
   "source": [
    "# (anchor, postive) => 1, 1, 1, 1, 1\n",
    "# (anchor, negative) => 0, 0, 0, 0, 0"
   ]
  },
  {
   "cell_type": "code",
   "execution_count": 19,
   "id": "0ad659c7",
   "metadata": {},
   "outputs": [],
   "source": [
    "positives = tf.data.Dataset.zip((anchor, positive, tf.data.Dataset.from_tensor_slices(tf.ones(len(anchor)))))\n",
    "negatives = tf.data.Dataset.zip((anchor, negative, tf.data.Dataset.from_tensor_slices(tf.zeros(len(anchor)))))\n",
    "data = positives.concatenate(negatives)"
   ]
  },
  {
   "cell_type": "code",
   "execution_count": 20,
   "id": "c109770d",
   "metadata": {},
   "outputs": [],
   "source": [
    "sample = data.as_numpy_iterator()\n",
    "ex = sample.next() "
   ]
  },
  {
   "cell_type": "markdown",
   "id": "1acbdc49",
   "metadata": {},
   "source": [
    "## build train and test partition"
   ]
  },
  {
   "cell_type": "code",
   "execution_count": 21,
   "id": "7aadb429",
   "metadata": {},
   "outputs": [],
   "source": [
    "def preprocess_twin(input_img, validation_img, label):\n",
    "    return(preprocess(input_img), preprocess(validation_img), label)"
   ]
  },
  {
   "cell_type": "code",
   "execution_count": 22,
   "id": "1e4e3ffc",
   "metadata": {
    "scrolled": true
   },
   "outputs": [],
   "source": [
    "# '*' unpacks the data\n",
    "res = preprocess_twin(*ex)"
   ]
  },
  {
   "cell_type": "code",
   "execution_count": 23,
   "id": "9a8ea6aa",
   "metadata": {
    "scrolled": false
   },
   "outputs": [
    {
     "data": {
      "text/plain": [
       "<tf.Tensor: shape=(105, 105, 3), dtype=float32, numpy=\n",
       "array([[[0.4552688 , 0.38860214, 0.31801388],\n",
       "        [0.59048957, 0.5078565 , 0.42494333],\n",
       "        [0.70869464, 0.6110289 , 0.5138078 ],\n",
       "        ...,\n",
       "        [0.22696644, 0.21090665, 0.18915127],\n",
       "        [0.27599713, 0.24713223, 0.2166067 ],\n",
       "        [0.4552066 , 0.41720474, 0.36650443]],\n",
       "\n",
       "       [[0.40736967, 0.34854612, 0.27403632],\n",
       "        [0.50108045, 0.4296519 , 0.3509404 ],\n",
       "        [0.6443244 , 0.55450183, 0.46253172],\n",
       "        ...,\n",
       "        [0.16283183, 0.14733227, 0.12573028],\n",
       "        [0.31404588, 0.28797543, 0.256883  ],\n",
       "        [0.55729634, 0.5276111 , 0.47335607]],\n",
       "\n",
       "       [[0.37468547, 0.3158619 , 0.24135211],\n",
       "        [0.43787515, 0.37092838, 0.29193678],\n",
       "        [0.5549398 , 0.4708128 , 0.38491178],\n",
       "        ...,\n",
       "        [0.15826328, 0.15514426, 0.14300607],\n",
       "        [0.17703754, 0.16153799, 0.14006272],\n",
       "        [0.3270553 , 0.30707398, 0.2642391 ]],\n",
       "\n",
       "       ...,\n",
       "\n",
       "       [[0.8182785 , 0.6731804 , 0.3959628 ],\n",
       "        [0.78238636, 0.6330867 , 0.33840874],\n",
       "        [0.7680295 , 0.60864574, 0.30688944],\n",
       "        ...,\n",
       "        [0.56345445, 0.4418858 , 0.26095116],\n",
       "        [0.6017407 , 0.4950181 , 0.28801525],\n",
       "        [0.60784316, 0.5019608 , 0.28627452]],\n",
       "\n",
       "       [[0.81185144, 0.6667534 , 0.38953584],\n",
       "        [0.7837536 , 0.63445383, 0.33977595],\n",
       "        [0.7741963 , 0.6154729 , 0.31543955],\n",
       "        ...,\n",
       "        [0.57354283, 0.45811006, 0.2673537 ],\n",
       "        [0.6109444 , 0.505002  , 0.28989598],\n",
       "        [0.61148465, 0.5056023 , 0.28991598]],\n",
       "\n",
       "       [[0.81568635, 0.67058825, 0.39337072],\n",
       "        [0.7805656 , 0.63100576, 0.336588  ],\n",
       "        [0.7843138 , 0.61960787, 0.32511672],\n",
       "        ...,\n",
       "        [0.5804634 , 0.46925896, 0.26563966],\n",
       "        [0.61148465, 0.5056023 , 0.28991598],\n",
       "        [0.6117647 , 0.5058824 , 0.2901961 ]]], dtype=float32)>"
      ]
     },
     "execution_count": 23,
     "metadata": {},
     "output_type": "execute_result"
    }
   ],
   "source": [
    "res[1]"
   ]
  },
  {
   "cell_type": "code",
   "execution_count": 24,
   "id": "93322aa2",
   "metadata": {},
   "outputs": [
    {
     "data": {
      "text/plain": [
       "1.0"
      ]
     },
     "execution_count": 24,
     "metadata": {},
     "output_type": "execute_result"
    }
   ],
   "source": [
    "res[2]"
   ]
  },
  {
   "cell_type": "code",
   "execution_count": 25,
   "id": "31f70e01",
   "metadata": {},
   "outputs": [],
   "source": [
    "# build data pipeline\n",
    "data = data.map(preprocess_twin)\n",
    "data = data.cache()\n",
    "data = data.shuffle(buffer_size=1024)"
   ]
  },
  {
   "cell_type": "code",
   "execution_count": 26,
   "id": "ae677916",
   "metadata": {
    "scrolled": true
   },
   "outputs": [],
   "source": [
    "# training partition\n",
    "train_data = data.take(round(len(data)*.7))\n",
    "train_data = train_data.batch(16)\n",
    "train_data = train_data.prefetch(8)"
   ]
  },
  {
   "cell_type": "code",
   "execution_count": 27,
   "id": "f1722128",
   "metadata": {},
   "outputs": [],
   "source": [
    "# testing partition\n",
    "test_data = data.skip(round(len(data)*.7))\n",
    "test_data = test_data.take(round(len(data)*.3))\n",
    "test_data = test_data.batch(16)\n",
    "test_data = test_data.prefetch(8)"
   ]
  },
  {
   "cell_type": "code",
   "execution_count": 28,
   "id": "752c847e",
   "metadata": {},
   "outputs": [
    {
     "data": {
      "text/plain": [
       "12"
      ]
     },
     "execution_count": 28,
     "metadata": {},
     "output_type": "execute_result"
    }
   ],
   "source": [
    "len(test_data)"
   ]
  },
  {
   "cell_type": "markdown",
   "id": "f29929af",
   "metadata": {},
   "source": [
    "# 4. MODEL ENGINEERING"
   ]
  },
  {
   "cell_type": "markdown",
   "id": "e6e569eb",
   "metadata": {},
   "source": [
    "## neural network layers"
   ]
  },
  {
   "cell_type": "code",
   "execution_count": 29,
   "id": "bd0a44a2",
   "metadata": {},
   "outputs": [
    {
     "data": {
      "image/png": "[encoded data removed]",
      "text/plain": [
       "<Figure size 1280x640 with 1 Axes>"
      ]
     },
     "metadata": {},
     "output_type": "display_data"
    }
   ],
   "source": [
    "%matplotlib inline\n",
    "import matplotlib.pyplot as plt\n",
    "import matplotlib.image as mpimg\n",
    "from matplotlib.pyplot import figure\n",
    "figure(figsize=(16, 8), dpi=80)\n",
    "img = mpimg.imread('network_layer.png')\n",
    "imgplot = plt.imshow(img)\n",
    "plt.show()"
   ]
  },
  {
   "cell_type": "markdown",
   "id": "36cc92ca",
   "metadata": {},
   "source": [
    "## make embedding and distance layer"
   ]
  },
  {
   "cell_type": "code",
   "execution_count": 30,
   "id": "03432447",
   "metadata": {},
   "outputs": [],
   "source": [
    "#embedding layer\n",
    "def make_embedding():\n",
    "    inp = Input(shape=(105, 105, 3), name='input image')\n",
    "    \n",
    "    # first block\n",
    "    c1 = Conv2D(64, (10, 10), activation='relu')(inp) \n",
    "    m1 = MaxPooling2D(64, (2, 2), padding='same')(c1)\n",
    "    \n",
    "    # second block\n",
    "    c2 = Conv2D(128, (7, 7), activation='relu')(m1)\n",
    "    m2 = MaxPooling2D(64, (2, 2), padding='same')(c2)\n",
    "    \n",
    "    # third block\n",
    "    c3 = Conv2D(128, (4, 4), activation='relu')(m2)\n",
    "    m3 = MaxPooling2D(64, (2, 2), padding='same')(c3)\n",
    "    \n",
    "    # final embedding block\n",
    "    c4 = Conv2D(256, (4, 4), activation='relu')(m3)\n",
    "    f1 = Flatten()(c4)\n",
    "    d1 = Dense(4096, activation='sigmoid')(f1)\n",
    "    \n",
    "    return Model(inputs=[inp] ,outputs=[d1], name='embedding')  "
   ]
  },
  {
   "cell_type": "code",
   "execution_count": 31,
   "id": "84c24f24",
   "metadata": {},
   "outputs": [
    {
     "name": "stdout",
     "output_type": "stream",
     "text": [
      "Model: \"embedding\"\n",
      "_________________________________________________________________\n",
      " Layer (type)                Output Shape              Param #   \n",
      "=================================================================\n",
      " input image (InputLayer)    [(None, 105, 105, 3)]     0         \n",
      "                                                                 \n",
      " conv2d (Conv2D)             (None, 96, 96, 64)        19264     \n",
      "                                                                 \n",
      " max_pooling2d (MaxPooling2D  (None, 48, 48, 64)       0         \n",
      " )                                                               \n",
      "                                                                 \n",
      " conv2d_1 (Conv2D)           (None, 42, 42, 128)       401536    \n",
      "                                                                 \n",
      " max_pooling2d_1 (MaxPooling  (None, 21, 21, 128)      0         \n",
      " 2D)                                                             \n",
      "                                                                 \n",
      " conv2d_2 (Conv2D)           (None, 18, 18, 128)       262272    \n",
      "                                                                 \n",
      " max_pooling2d_2 (MaxPooling  (None, 9, 9, 128)        0         \n",
      " 2D)                                                             \n",
      "                                                                 \n",
      " conv2d_3 (Conv2D)           (None, 6, 6, 256)         524544    \n",
      "                                                                 \n",
      " flatten (Flatten)           (None, 9216)              0         \n",
      "                                                                 \n",
      " dense (Dense)               (None, 4096)              37752832  \n",
      "                                                                 \n",
      "=================================================================\n",
      "Total params: 38,960,448\n",
      "Trainable params: 38,960,448\n",
      "Non-trainable params: 0\n",
      "_________________________________________________________________\n"
     ]
    }
   ],
   "source": [
    "embedding = make_embedding()\n",
    "embedding.summary()"
   ]
  },
  {
   "cell_type": "code",
   "execution_count": 32,
   "id": "08dd4c4a",
   "metadata": {},
   "outputs": [],
   "source": [
    "# build distance layer\n",
    "class L1Dist(Layer):\n",
    "    \n",
    "    # init function, performs inheritance\n",
    "    def __init__(self, **kwargs):\n",
    "        super().__init__()\n",
    "        \n",
    "    # performs distance/similarity calculation\n",
    "    def call(self, input_embedding, validation_embedding):\n",
    "        return tf.math.abs(input_embedding-validation_embedding)\n",
    "        "
   ]
  },
  {
   "cell_type": "markdown",
   "id": "b9141b52",
   "metadata": {},
   "source": [
    "## make siamese model"
   ]
  },
  {
   "cell_type": "code",
   "execution_count": 33,
   "id": "90af8f91",
   "metadata": {},
   "outputs": [],
   "source": [
    "def make_siamese_model():\n",
    "    \n",
    "    # input anchor image\n",
    "    input_image = Input(name='input_image', shape=(105, 105, 3))\n",
    "\n",
    "    # input validation image\n",
    "    validation_image = Input(name='validation_image', shape=(105, 105, 3))\n",
    "\n",
    "    # combining the distance\n",
    "    siamese_model = L1Dist()\n",
    "    siamese_model._name = 'distance'\n",
    "    distances = siamese_model(embedding(input_image), embedding(validation_image))\n",
    "\n",
    "    # classification layer\n",
    "    classifier = Dense(1, activation='sigmoid')(distances)\n",
    "    \n",
    "    return Model(inputs=[input_image, validation_image], outputs=classifier, name='siamese') "
   ]
  },
  {
   "cell_type": "code",
   "execution_count": 34,
   "id": "b7f1e045",
   "metadata": {},
   "outputs": [
    {
     "name": "stdout",
     "output_type": "stream",
     "text": [
      "Model: \"siamese\"\n",
      "__________________________________________________________________________________________________\n",
      " Layer (type)                   Output Shape         Param #     Connected to                     \n",
      "==================================================================================================\n",
      " input_image (InputLayer)       [(None, 105, 105, 3  0           []                               \n",
      "                                )]                                                                \n",
      "                                                                                                  \n",
      " validation_image (InputLayer)  [(None, 105, 105, 3  0           []                               \n",
      "                                )]                                                                \n",
      "                                                                                                  \n",
      " embedding (Functional)         (None, 4096)         38960448    ['input_image[0][0]',            \n",
      "                                                                  'validation_image[0][0]']       \n",
      "                                                                                                  \n",
      " distance (L1Dist)              (None, 4096)         0           ['embedding[0][0]',              \n",
      "                                                                  'embedding[1][0]']              \n",
      "                                                                                                  \n",
      " dense_1 (Dense)                (None, 1)            4097        ['distance[0][0]']               \n",
      "                                                                                                  \n",
      "==================================================================================================\n",
      "Total params: 38,964,545\n",
      "Trainable params: 38,964,545\n",
      "Non-trainable params: 0\n",
      "__________________________________________________________________________________________________\n"
     ]
    }
   ],
   "source": [
    "siamese_model = make_siamese_model()\n",
    "siamese_model.summary()"
   ]
  },
  {
   "cell_type": "markdown",
   "id": "22f13440",
   "metadata": {},
   "source": [
    "# 5. TRAINING"
   ]
  },
  {
   "cell_type": "code",
   "execution_count": 35,
   "id": "b1a3e016",
   "metadata": {},
   "outputs": [],
   "source": [
    "from tensorflow.keras.optimizers.legacy import Adam\n",
    "# setup loss fuction\n",
    "binary_cross_loss = tf.losses.BinaryCrossentropy()\n",
    "opt = Adam(1e-4)"
   ]
  },
  {
   "cell_type": "code",
   "execution_count": 36,
   "id": "f1a65be0",
   "metadata": {},
   "outputs": [],
   "source": [
    "# establish checkpoints\n",
    "checkpoint_dir = './training_checkpoints'\n",
    "checkpoint_prefix = os.path.join(checkpoint_dir, 'ckpt')\n",
    "checkpoint = tf.train.Checkpoint(opt=opt, siamese_model=siamese_model)"
   ]
  },
  {
   "cell_type": "code",
   "execution_count": 37,
   "id": "dd7b44c3",
   "metadata": {},
   "outputs": [],
   "source": [
    "@tf.function\n",
    "def train_step(batch):\n",
    "    with tf.GradientTape() as tape:\n",
    "        # get anchor and postive/negative images\n",
    "        X = batch[:2]\n",
    "        # get label\n",
    "        y = batch[2]\n",
    "        yhat = siamese_model(X, training=True)\n",
    "        loss = binary_cross_loss(y, yhat)\n",
    "    print(loss)\n",
    "        \n",
    "    # calculate gradient\n",
    "    grad = tape.gradient(loss, siamese_model.trainable_variables)\n",
    "    \n",
    "    # calculate updated weights and apply to siamese models\n",
    "    opt.apply_gradients(zip(grad, siamese_model.trainable_variables))\n",
    "    return loss"
   ]
  },
  {
   "cell_type": "code",
   "execution_count": 39,
   "id": "f3995ec4",
   "metadata": {},
   "outputs": [],
   "source": [
    "from tensorflow import keras\n",
    "# build training loop\n",
    "tensorboard_callback = keras.callbacks.TensorBoard\n",
    "def train(data, epochs):\n",
    "    for epoch in range(1, epochs+1):\n",
    "        print('\\n epoch : {}/{}'.format(epoch, epochs))\n",
    "        progbar = tf.keras.utils.Progbar(len(data))\n",
    "        \n",
    "        #loop through each batch\n",
    "        for idx, batch in enumerate(data):\n",
    "            # run through train data here\n",
    "            train_step(batch)\n",
    "            progbar.update(idx+1)\n",
    "        \n",
    "        # Save checkpoints\n",
    "        if epoch % 10 == 0:\n",
    "            checkpoint.save(file_prefix=checkpoint_prefix)\n",
    "            \n",
    "        callbacks=[tensorboard_callback]"
   ]
  },
  {
   "cell_type": "code",
   "execution_count": 40,
   "id": "feb9c157",
   "metadata": {
    "scrolled": true
   },
   "outputs": [
    {
     "name": "stdout",
     "output_type": "stream",
     "text": [
      "\n",
      " epoch : 1/50\n"
     ]
    },
    {
     "name": "stderr",
     "output_type": "stream",
     "text": [
      "2023-04-29 04:11:03.220507: W tensorflow/tsl/platform/profile_utils/cpu_utils.cc:128] Failed to get CPU frequency: 0 Hz\n"
     ]
    },
    {
     "name": "stdout",
     "output_type": "stream",
     "text": [
      "Tensor(\"binary_crossentropy/weighted_loss/value:0\", shape=(), dtype=float32)\n",
      "Tensor(\"binary_crossentropy/weighted_loss/value:0\", shape=(), dtype=float32)\n",
      "26/27 [===========================>..] - ETA: 1sTensor(\"binary_crossentropy/weighted_loss/value:0\", shape=(), dtype=float32)\n",
      "27/27 [==============================] - 34s 1s/step\n",
      "\n",
      " epoch : 2/50\n",
      "27/27 [==============================] - 33s 1s/step\n",
      "\n",
      " epoch : 3/50\n",
      "27/27 [==============================] - 32s 1s/step\n",
      "\n",
      " epoch : 4/50\n",
      "27/27 [==============================] - 32s 1s/step\n",
      "\n",
      " epoch : 5/50\n",
      "27/27 [==============================] - 33s 1s/step\n",
      "\n",
      " epoch : 6/50\n",
      "27/27 [==============================] - 33s 1s/step\n",
      "\n",
      " epoch : 7/50\n",
      "27/27 [==============================] - 33s 1s/step\n",
      "\n",
      " epoch : 8/50\n",
      "27/27 [==============================] - 32s 1s/step\n",
      "\n",
      " epoch : 9/50\n",
      "27/27 [==============================] - 33s 1s/step\n",
      "\n",
      " epoch : 10/50\n",
      "27/27 [==============================] - 33s 1s/step\n",
      "\n",
      " epoch : 11/50\n",
      "27/27 [==============================] - 32s 1s/step\n",
      "\n",
      " epoch : 12/50\n",
      "27/27 [==============================] - 33s 1s/step\n",
      "\n",
      " epoch : 13/50\n",
      "27/27 [==============================] - 33s 1s/step\n",
      "\n",
      " epoch : 14/50\n",
      "27/27 [==============================] - 33s 1s/step\n",
      "\n",
      " epoch : 15/50\n",
      "27/27 [==============================] - 33s 1s/step\n",
      "\n",
      " epoch : 16/50\n",
      "27/27 [==============================] - 33s 1s/step\n",
      "\n",
      " epoch : 17/50\n",
      "27/27 [==============================] - 32s 1s/step\n",
      "\n",
      " epoch : 18/50\n",
      "27/27 [==============================] - 33s 1s/step\n",
      "\n",
      " epoch : 19/50\n",
      "27/27 [==============================] - 33s 1s/step\n",
      "\n",
      " epoch : 20/50\n",
      "27/27 [==============================] - 33s 1s/step\n",
      "\n",
      " epoch : 21/50\n",
      "27/27 [==============================] - 32s 1s/step\n",
      "\n",
      " epoch : 22/50\n",
      "27/27 [==============================] - 33s 1s/step\n",
      "\n",
      " epoch : 23/50\n",
      "27/27 [==============================] - 33s 1s/step\n",
      "\n",
      " epoch : 24/50\n",
      "27/27 [==============================] - 33s 1s/step\n",
      "\n",
      " epoch : 25/50\n",
      "27/27 [==============================] - 33s 1s/step\n",
      "\n",
      " epoch : 26/50\n",
      "27/27 [==============================] - 33s 1s/step\n",
      "\n",
      " epoch : 27/50\n",
      "27/27 [==============================] - 32s 1s/step\n",
      "\n",
      " epoch : 28/50\n",
      "27/27 [==============================] - 33s 1s/step\n",
      "\n",
      " epoch : 29/50\n",
      "27/27 [==============================] - 32s 1s/step\n",
      "\n",
      " epoch : 30/50\n",
      "27/27 [==============================] - 33s 1s/step\n",
      "\n",
      " epoch : 31/50\n",
      "27/27 [==============================] - 33s 1s/step\n",
      "\n",
      " epoch : 32/50\n",
      "27/27 [==============================] - 33s 1s/step\n",
      "\n",
      " epoch : 33/50\n",
      "27/27 [==============================] - 33s 1s/step\n",
      "\n",
      " epoch : 34/50\n",
      "27/27 [==============================] - 33s 1s/step\n",
      "\n",
      " epoch : 35/50\n",
      "27/27 [==============================] - 33s 1s/step\n",
      "\n",
      " epoch : 36/50\n",
      "27/27 [==============================] - 33s 1s/step\n",
      "\n",
      " epoch : 37/50\n",
      "27/27 [==============================] - 33s 1s/step\n",
      "\n",
      " epoch : 38/50\n",
      "27/27 [==============================] - 33s 1s/step\n",
      "\n",
      " epoch : 39/50\n",
      "27/27 [==============================] - 33s 1s/step\n",
      "\n",
      " epoch : 40/50\n",
      "27/27 [==============================] - 33s 1s/step\n",
      "\n",
      " epoch : 41/50\n",
      "27/27 [==============================] - 33s 1s/step\n",
      "\n",
      " epoch : 42/50\n",
      "27/27 [==============================] - 34s 1s/step\n",
      "\n",
      " epoch : 43/50\n",
      "27/27 [==============================] - 32s 1s/step\n",
      "\n",
      " epoch : 44/50\n",
      "27/27 [==============================] - 32s 1s/step\n",
      "\n",
      " epoch : 45/50\n",
      "27/27 [==============================] - 32s 1s/step\n",
      "\n",
      " epoch : 46/50\n",
      "27/27 [==============================] - 32s 1s/step\n",
      "\n",
      " epoch : 47/50\n",
      "27/27 [==============================] - 32s 1s/step\n",
      "\n",
      " epoch : 48/50\n",
      "27/27 [==============================] - 34s 1s/step\n",
      "\n",
      " epoch : 49/50\n",
      "27/27 [==============================] - 33s 1s/step\n",
      "\n",
      " epoch : 50/50\n",
      "27/27 [==============================] - 33s 1s/step\n"
     ]
    }
   ],
   "source": [
    "# train model\n",
    "epochs = 50  \n",
    "train(train_data, epochs)   "
   ]
  },
  {
   "cell_type": "markdown",
   "id": "d0c6a8b1",
   "metadata": {},
   "source": [
    "# 6. EVALUATE MODEL"
   ]
  },
  {
   "cell_type": "code",
   "execution_count": 41,
   "id": "4a561ca8",
   "metadata": {},
   "outputs": [],
   "source": [
    "# import metric calculations\n",
    "from tensorflow.keras.metrics import Precision, Recall"
   ]
  },
  {
   "cell_type": "code",
   "execution_count": 42,
   "id": "cd53e307",
   "metadata": {},
   "outputs": [],
   "source": [
    "# get a batch of test data\n",
    "test_inp, test_val, y_true = test_data.as_numpy_iterator().next()"
   ]
  },
  {
   "cell_type": "code",
   "execution_count": 43,
   "id": "a32650b4",
   "metadata": {},
   "outputs": [
    {
     "name": "stdout",
     "output_type": "stream",
     "text": [
      "1/1 [==============================] - 0s 143ms/step\n"
     ]
    },
    {
     "data": {
      "text/plain": [
       "array([[1.0000000e+00],\n",
       "       [9.9970567e-01],\n",
       "       [1.0000000e+00],\n",
       "       [7.4799209e-05],\n",
       "       [9.9999762e-01],\n",
       "       [9.9998319e-01],\n",
       "       [3.1076972e-10],\n",
       "       [4.3554093e-07],\n",
       "       [9.9999940e-01],\n",
       "       [4.4768148e-12],\n",
       "       [9.9997807e-01],\n",
       "       [9.9999940e-01],\n",
       "       [2.2484379e-09],\n",
       "       [2.9749613e-08],\n",
       "       [9.9999952e-01],\n",
       "       [1.0146120e-09]], dtype=float32)"
      ]
     },
     "execution_count": 43,
     "metadata": {},
     "output_type": "execute_result"
    }
   ],
   "source": [
    "# make predictions\n",
    "y_hat = siamese_model.predict([test_inp, test_val])\n",
    "y_hat"
   ]
  },
  {
   "cell_type": "code",
   "execution_count": 51,
   "id": "b061f9bd",
   "metadata": {},
   "outputs": [
    {
     "data": {
      "text/plain": [
       "[1, 1, 1, 0, 1, 1, 0, 0, 1, 0, 1, 1, 0, 0, 1, 0]"
      ]
     },
     "execution_count": 51,
     "metadata": {},
     "output_type": "execute_result"
    }
   ],
   "source": [
    "# post processing the results\n",
    "[1 if prediction > 0.5 else 0 for prediction in y_hat]"
   ]
  },
  {
   "cell_type": "code",
   "execution_count": 52,
   "id": "9c02209d",
   "metadata": {},
   "outputs": [
    {
     "data": {
      "text/plain": [
       "array([1., 1., 1., 0., 1., 1., 0., 0., 1., 0., 1., 1., 0., 0., 1., 0.],\n",
       "      dtype=float32)"
      ]
     },
     "execution_count": 52,
     "metadata": {},
     "output_type": "execute_result"
    }
   ],
   "source": [
    "y_true"
   ]
  },
  {
   "cell_type": "code",
   "execution_count": 53,
   "id": "cbe5722f",
   "metadata": {},
   "outputs": [
    {
     "data": {
      "text/plain": [
       "1.0"
      ]
     },
     "execution_count": 53,
     "metadata": {},
     "output_type": "execute_result"
    }
   ],
   "source": [
    "# creating a metric object\n",
    "m = Recall()\n",
    "\n",
    "# calculate the recall value\n",
    "m.update_state(y_true, y_hat)\n",
    "\n",
    "# return recall result\n",
    "m.result().numpy()"
   ]
  },
  {
   "cell_type": "code",
   "execution_count": 54,
   "id": "446df910",
   "metadata": {},
   "outputs": [
    {
     "data": {
      "text/plain": [
       "1.0"
      ]
     },
     "execution_count": 54,
     "metadata": {},
     "output_type": "execute_result"
    }
   ],
   "source": [
    "# creating a metric object\n",
    "m = Precision()\n",
    "\n",
    "# calculate the recall value\n",
    "m.update_state(y_true, y_hat)\n",
    "\n",
    "# return recall result\n",
    "m.result().numpy()"
   ]
  },
  {
   "cell_type": "code",
   "execution_count": 48,
   "id": "ff324c56",
   "metadata": {},
   "outputs": [],
   "source": [
    "# visualizing results\n",
    "# plt.figure(figsize=(10, 8))\n",
    "# plt.subplot(1, 2, 1)\n",
    "# plt.imshow(test_inp[1])\n",
    "# plt.subplot(1, 2, 2)\n",
    "# plt.imshow(test_val[1])\n",
    "# plt.show()"
   ]
  },
  {
   "cell_type": "markdown",
   "id": "986c1ddf",
   "metadata": {},
   "source": [
    "# 7. SAVE  "
   ]
  },
  {
   "cell_type": "code",
   "execution_count": 46,
   "id": "016f7f5d",
   "metadata": {},
   "outputs": [],
   "source": [
    "siamese_model.compile(optimizer='adam', loss='BinaryCrossentropy')"
   ]
  },
  {
   "cell_type": "code",
   "execution_count": 49,
   "id": "0c4b4566",
   "metadata": {},
   "outputs": [
    {
     "name": "stdout",
     "output_type": "stream",
     "text": [
      "WARNING:tensorflow:Compiled the loaded model, but the compiled metrics have yet to be built. `model.compile_metrics` will be empty until you train or evaluate the model.\n"
     ]
    }
   ],
   "source": [
    "#saving weights\n",
    "siamese_model.save('siamese_model_3.h5')"
   ]
  },
  {
   "cell_type": "code",
   "execution_count": 50,
   "id": "b91dcb41",
   "metadata": {},
   "outputs": [
    {
     "name": "stdout",
     "output_type": "stream",
     "text": [
      "WARNING:tensorflow:No training configuration found in the save file, so the model was *not* compiled. Compile it manually.\n"
     ]
    }
   ],
   "source": [
    "# reload model\n",
    "model = tf.keras.models.load_model('siamese_model_3.h5', \n",
    "                                          custom_objects={'L1Dist':L1Dist, \n",
    "                                                  'BinaryCrossentropy':tf.losses.BinaryCrossentropy})"
   ]
  },
  {
   "cell_type": "code",
   "execution_count": 50,
   "id": "ec23fedd",
   "metadata": {},
   "outputs": [
    {
     "data": {
      "text/plain": [
       "array([[1.0000000e+00],\n",
       "       [9.9999738e-01],\n",
       "       [1.5506021e-10],\n",
       "       [3.1524213e-08],\n",
       "       [1.0000000e+00],\n",
       "       [9.9999988e-01],\n",
       "       [1.2404997e-09],\n",
       "       [1.0000000e+00],\n",
       "       [1.0000000e+00],\n",
       "       [1.7667583e-09],\n",
       "       [9.9984044e-01],\n",
       "       [9.9999940e-01],\n",
       "       [1.2025563e-06],\n",
       "       [6.3376704e-10],\n",
       "       [9.9999809e-01],\n",
       "       [1.0631853e-11]], dtype=float32)"
      ]
     },
     "execution_count": 50,
     "metadata": {},
     "output_type": "execute_result"
    }
   ],
   "source": [
    "model.predict([test_inp, test_val], verbose=0) "
   ]
  },
  {
   "cell_type": "markdown",
   "id": "9ad904d2",
   "metadata": {},
   "source": [
    "# REAL TIME TEST"
   ]
  },
  {
   "cell_type": "markdown",
   "id": "09919944",
   "metadata": {},
   "source": [
    "## verification function"
   ]
  },
  {
   "cell_type": "code",
   "execution_count": 55,
   "id": "e151af71",
   "metadata": {},
   "outputs": [],
   "source": [
    "def verify(model, detection_threshold, verification_threshold):\n",
    "    results = []\n",
    "    for image in os.listdir(os.path.join('application_data', 'verification_image')):\n",
    "        input_img = preprocess(os.path.join('application_data', 'input_image', 'input_image.jpeg'))\n",
    "        validation_img = preprocess(os.path.join('application_data', 'verification_image', image))\n",
    "        \n",
    "        result = model.predict(list(np.expand_dims([input_img, validation_img], axis=1)))\n",
    "        results.append(result)\n",
    "        \n",
    "    detection = np.sum(np.array(results) > detection_threshold)\n",
    "    validation = detection/len(os.listdir(os.path.join('application_data', 'verification_image')))\n",
    "    verified = validation > verification_threshold\n",
    "    \n",
    "    return results, verified"
   ]
  },
  {
   "cell_type": "markdown",
   "id": "17b69aa6",
   "metadata": {},
   "source": [
    " ## opencv real time verification"
   ]
  },
  {
   "cell_type": "code",
   "execution_count": 59,
   "id": "ff09142d",
   "metadata": {
    "scrolled": true
   },
   "outputs": [],
   "source": [
    "cap = cv2.VideoCapture(0)\n",
    "while cap.isOpened():\n",
    "    \n",
    "    ret, frame = cap.read()\n",
    "    frame = frame[:, 420:1920-420, :]\n",
    "    frame = cv2.resize(frame, (250, 250))\n",
    "     \n",
    "    cv2.imshow('verification', frame)\n",
    "    \n",
    "    # verification trigger\n",
    "    if cv2.waitKey(10) & 0XFF==ord('v'):\n",
    "        # save input imgage to input_image folder\n",
    "        cv2.imwrite(os.path.join('application_data', 'input_image', 'input_image.jpeg'), frame)\n",
    "        # run verification function\n",
    "        results, verified = verify(model, 0.5, 0.5)\n",
    "        print(verified)\n",
    "        \n",
    "    if cv2.waitKey(10) & 0XFF==ord('q'):\n",
    "        break\n",
    "        \n",
    "cap.release()\n",
    "cv2.destroyAllWindows()  \n",
    "for i in range(1,5):\n",
    "    cv2.waitKey(1)"
   ]
  },
  {
   "cell_type": "code",
   "execution_count": null,
   "id": "592b7876",
   "metadata": {},
   "outputs": [],
   "source": []
  }
 ],
 "metadata": {
  "kernelspec": {
   "display_name": "Python 3 (ipykernel)",
   "language": "python",
   "name": "python3"
  },
  "language_info": {
   "codemirror_mode": {
    "name": "ipython",
    "version": 3
   },
   "file_extension": ".py",
   "mimetype": "text/x-python",
   "name": "python",
   "nbconvert_exporter": "python",
   "pygments_lexer": "ipython3",
   "version": "3.8.16"
  }
 },
 "nbformat": 4,
 "nbformat_minor": 5
}
